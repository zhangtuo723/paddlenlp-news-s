{
 "cells": [
  {
   "cell_type": "code",
   "execution_count": 1,
   "id": "8bce9c29",
   "metadata": {},
   "outputs": [],
   "source": [
    "from paddlenlp.datasets import load_dataset\n",
    "train_set, dev_set, test_set = load_dataset(\"cnn_dailymail\",  splits=[\"train\", \"dev\", \"test\"])"
   ]
  },
  {
   "cell_type": "code",
   "execution_count": 2,
   "id": "ad2b6101",
   "metadata": {},
   "outputs": [
    {
     "name": "stderr",
     "output_type": "stream",
     "text": [
      "\u001b[32m[2022-06-14 13:48:24,549] [    INFO]\u001b[0m - Downloading http://bj.bcebos.com/paddlenlp/models/transformers/gpt/gpt-en-vocab.json and saved to C:\\Users\\hp-pc\\.paddlenlp\\models\\gpt2-en\u001b[0m\n",
      "\u001b[32m[2022-06-14 13:48:24,552] [    INFO]\u001b[0m - Downloading gpt-en-vocab.json from http://bj.bcebos.com/paddlenlp/models/transformers/gpt/gpt-en-vocab.json\u001b[0m\n",
      "100%|█████████████████████████████████████████████████████████████████████████████| 0.99M/0.99M [00:00<00:00, 2.48MB/s]\n",
      "\u001b[32m[2022-06-14 13:48:25,271] [    INFO]\u001b[0m - Downloading http://bj.bcebos.com/paddlenlp/models/transformers/gpt/gpt-en-merges.txt and saved to C:\\Users\\hp-pc\\.paddlenlp\\models\\gpt2-en\u001b[0m\n",
      "\u001b[32m[2022-06-14 13:48:25,273] [    INFO]\u001b[0m - Downloading gpt-en-merges.txt from http://bj.bcebos.com/paddlenlp/models/transformers/gpt/gpt-en-merges.txt\u001b[0m\n",
      "100%|████████████████████████████████████████████████████████████████████████████████| 446k/446k [00:00<00:00, 842kB/s]\n"
     ]
    }
   ],
   "source": [
    "import paddle\n",
    "from paddlenlp.transformers import GPTModel, GPTTokenizer\n",
    "\n",
    "tokenizer = GPTTokenizer.from_pretrained('gpt2-en')"
   ]
  },
  {
   "cell_type": "code",
   "execution_count": 4,
   "id": "6ba28806",
   "metadata": {},
   "outputs": [],
   "source": [
    "a = tokenizer(\"i love china\")[\"input_ids\"]"
   ]
  },
  {
   "cell_type": "code",
   "execution_count": 8,
   "id": "47a6a86d",
   "metadata": {},
   "outputs": [
    {
     "data": {
      "text/plain": [
       "{'article': '(CNN) -- Usain Bolt rounded off the world championships Sunday by claiming his third gold in Moscow as he anchored Jamaica to victory in the men\\'s 4x100m relay. The fastest man in the world charged clear of United States rival Justin Gatlin as the Jamaican quartet of Nesta Carter, Kemar Bailey-Cole, Nickel Ashmeade and Bolt won in 37.36 seconds. The U.S finished second in 37.56 seconds with Canada taking the bronze after Britain were disqualified for a faulty handover. The 26-year-old Bolt has now collected eight gold medals at world championships, equaling the record held by American trio Carl Lewis, Michael Johnson and Allyson Felix, not to mention the small matter of six Olympic titles. The relay triumph followed individual successes in the 100 and 200 meters in the Russian capital. \"I\\'m proud of myself and I\\'ll continue to work to dominate for as long as possible,\" Bolt said, having previously expressed his intention to carry on until the 2016 Rio Olympics. Victory was never seriously in doubt once he got the baton safely in hand from Ashmeade, while Gatlin and the United States third leg runner Rakieem Salaam had problems. Gatlin strayed out of his lane as he struggled to get full control of their baton and was never able to get on terms with Bolt. Earlier, Jamaica\\'s women underlined their dominance in the sprint events by winning the 4x100m relay gold, anchored by Shelly-Ann Fraser-Pryce, who like Bolt was completing a triple. Their quartet recorded a championship record of 41.29 seconds, well clear of France, who crossed the line in second place in 42.73 seconds. Defending champions, the United States, were initially back in the bronze medal position after losing time on the second handover between Alexandria Anderson and English Gardner, but promoted to silver when France were subsequently disqualified for an illegal handover. The British quartet, who were initially fourth, were promoted to the bronze which eluded their men\\'s team. Fraser-Pryce, like Bolt aged 26, became the first woman to achieve three golds in the 100-200 and the relay. In other final action on the last day of the championships, France\\'s Teddy Tamgho became the third man to leap over 18m in the triple jump, exceeding the mark by four centimeters to take gold. Germany\\'s Christina Obergfoll finally took gold at global level in the women\\'s javelin after five previous silvers, while Kenya\\'s Asbel Kiprop easily won a tactical men\\'s 1500m final. Kiprop\\'s compatriot Eunice Jepkoech Sum was a surprise winner of the women\\'s 800m. Bolt\\'s final dash for golden glory brought the eight-day championship to a rousing finale, but while the hosts topped the medal table from the United States there was criticism of the poor attendances in the Luzhniki Stadium. There was further concern when their pole vault gold medalist Yelena Isinbayeva made controversial remarks in support of Russia\\'s new laws, which make \"the propagandizing of non-traditional sexual relations among minors\" a criminal offense. She later attempted to clarify her comments, but there were renewed calls by gay rights groups for a boycott of the 2014 Winter Games in Sochi, the next major sports event in Russia.',\n",
       " 'highlights': \"Usain Bolt wins third gold of world championship .\\nAnchors Jamaica to 4x100m relay victory .\\nEighth gold at the championships for Bolt .\\nJamaica double up in women's 4x100m relay .\",\n",
       " 'id': '0002095e55fcbd3a2f366d9bf92a95433dc305ef'}"
      ]
     },
     "execution_count": 8,
     "metadata": {},
     "output_type": "execute_result"
    }
   ],
   "source": [
    "train_set[1]"
   ]
  },
  {
   "cell_type": "code",
   "execution_count": 6,
   "id": "786d45c8",
   "metadata": {},
   "outputs": [
    {
     "data": {
      "text/plain": [
       "'i love china'"
      ]
     },
     "execution_count": 6,
     "metadata": {},
     "output_type": "execute_result"
    }
   ],
   "source": [
    "tokenizer.convert_ids_to_string(a)"
   ]
  },
  {
   "cell_type": "code",
   "execution_count": 7,
   "id": "1d5607fd",
   "metadata": {},
   "outputs": [
    {
     "data": {
      "text/plain": [
       "['i', 'Ġlove', 'Ġch', 'ina']"
      ]
     },
     "execution_count": 7,
     "metadata": {},
     "output_type": "execute_result"
    }
   ],
   "source": []
  },
  {
   "cell_type": "code",
   "execution_count": null,
   "id": "4a815dfb",
   "metadata": {},
   "outputs": [],
   "source": []
  },
  {
   "cell_type": "code",
   "execution_count": 23,
   "id": "65bc2fc6",
   "metadata": {},
   "outputs": [
    {
     "name": "stderr",
     "output_type": "stream",
     "text": [
      "\u001b[32m[2022-06-13 14:57:36,344] [    INFO]\u001b[0m - Assigning <sep> to the sep_token key of the tokenizer\u001b[0m\n",
      "\u001b[32m[2022-06-13 14:57:36,344] [    INFO]\u001b[0m - Adding <sep> to the vocabulary\u001b[0m\n"
     ]
    },
    {
     "data": {
      "text/plain": [
       "1"
      ]
     },
     "execution_count": 23,
     "metadata": {},
     "output_type": "execute_result"
    }
   ],
   "source": [
    "tokenizer.add_special_tokens({\"sep_token\":\"<sep>\"})"
   ]
  },
  {
   "cell_type": "code",
   "execution_count": 24,
   "id": "4d0bc4e2",
   "metadata": {},
   "outputs": [
    {
     "data": {
      "text/plain": [
       "50257"
      ]
     },
     "execution_count": 24,
     "metadata": {},
     "output_type": "execute_result"
    }
   ],
   "source": [
    "tokenizer.vocab_size"
   ]
  },
  {
   "cell_type": "code",
   "execution_count": 25,
   "id": "de69b686",
   "metadata": {},
   "outputs": [
    {
     "data": {
      "text/plain": [
       "0"
      ]
     },
     "execution_count": 25,
     "metadata": {},
     "output_type": "execute_result"
    }
   ],
   "source": [
    "tokenizer.add_tokens(\"<sep>\")"
   ]
  },
  {
   "cell_type": "code",
   "execution_count": null,
   "id": "6e0c19ec",
   "metadata": {},
   "outputs": [],
   "source": []
  },
  {
   "cell_type": "code",
   "execution_count": null,
   "id": "2c061dfc",
   "metadata": {},
   "outputs": [],
   "source": []
  },
  {
   "cell_type": "code",
   "execution_count": null,
   "id": "029a11c1",
   "metadata": {},
   "outputs": [],
   "source": []
  },
  {
   "cell_type": "code",
   "execution_count": 26,
   "id": "c418403d",
   "metadata": {},
   "outputs": [],
   "source": [
    "import pickle"
   ]
  },
  {
   "cell_type": "code",
   "execution_count": 27,
   "id": "48c2cf1f",
   "metadata": {},
   "outputs": [],
   "source": [
    "from tqdm import tqdm"
   ]
  },
  {
   "cell_type": "code",
   "execution_count": 28,
   "id": "011ce991",
   "metadata": {},
   "outputs": [
    {
     "name": "stderr",
     "output_type": "stream",
     "text": [
      "100%|█████████████████████████████████████████████████████████████████████████| 287113/287113 [21:48<00:00, 219.42it/s]\n"
     ]
    }
   ],
   "source": [
    "all_data= []\n",
    "\n",
    "for data in tqdm(train_set):\n",
    "    content = data[\"article\"].lower()\n",
    "    title = data[\"highlights\"].lower()\n",
    "    content_id=[tokenizer.sep_token_id]\n",
    "    c = tokenizer(content,return_token_type_ids=False)[\"input_ids\"]\n",
    "    content_id.extend(c[:400])\n",
    "    length = len(content_id)\n",
    "    content_id.append(tokenizer.sep_token_id)\n",
    "    t = tokenizer(title,return_token_type_ids=False)[\"input_ids\"]\n",
    "    content_id.extend(t[:100])\n",
    "#     content_id.append(tokenizer.sep_token_id)\n",
    "    label = t[:100]\n",
    "    label.append(tokenizer.sep_token_id)\n",
    "    \n",
    "    all_data.append([content_id,label,length])\n",
    "   \n",
    "    \n",
    "#     if cnt==1000:\n",
    "#         break\n",
    "    \n",
    "    "
   ]
  },
  {
   "cell_type": "code",
   "execution_count": 29,
   "id": "ecf7c06c",
   "metadata": {},
   "outputs": [],
   "source": [
    "with open(\"data/train.pkl\",\"wb\") as f:\n",
    "    pickle.dump(all_data,f)"
   ]
  },
  {
   "cell_type": "code",
   "execution_count": 30,
   "id": "5d6a4e58",
   "metadata": {},
   "outputs": [
    {
     "name": "stderr",
     "output_type": "stream",
     "text": [
      "\u001b[32m[2022-06-13 15:21:06,914] [    INFO]\u001b[0m - tokenizer config file saved in token/tokenizer_config.json\u001b[0m\n",
      "\u001b[32m[2022-06-13 15:21:06,918] [    INFO]\u001b[0m - Special tokens file saved in token/special_tokens_map.json\u001b[0m\n",
      "\u001b[32m[2022-06-13 15:21:06,919] [    INFO]\u001b[0m - added tokens file saved in token/added_tokens.json\u001b[0m\n"
     ]
    },
    {
     "data": {
      "text/plain": [
       "('token/tokenizer_config.json',\n",
       " 'token/special_tokens_map.json',\n",
       " 'token/added_tokens.json')"
      ]
     },
     "execution_count": 30,
     "metadata": {},
     "output_type": "execute_result"
    }
   ],
   "source": [
    "tokenizer.save_pretrained(\"token/\")"
   ]
  },
  {
   "cell_type": "code",
   "execution_count": 8,
   "id": "2e80f8f4",
   "metadata": {},
   "outputs": [
    {
     "ename": "NameError",
     "evalue": "name 'd' is not defined",
     "output_type": "error",
     "traceback": [
      "\u001b[1;31m---------------------------------------------------------------------------\u001b[0m",
      "\u001b[1;31mNameError\u001b[0m                                 Traceback (most recent call last)",
      "\u001b[1;32m<ipython-input-8-e983f374794d>\u001b[0m in \u001b[0;36m<module>\u001b[1;34m\u001b[0m\n\u001b[1;32m----> 1\u001b[1;33m \u001b[0md\u001b[0m\u001b[1;33m\u001b[0m\u001b[1;33m\u001b[0m\u001b[0m\n\u001b[0m",
      "\u001b[1;31mNameError\u001b[0m: name 'd' is not defined"
     ]
    }
   ],
   "source": []
  }
 ],
 "metadata": {
  "kernelspec": {
   "display_name": "Python 3",
   "language": "python",
   "name": "python3"
  },
  "language_info": {
   "codemirror_mode": {
    "name": "ipython",
    "version": 3
   },
   "file_extension": ".py",
   "mimetype": "text/x-python",
   "name": "python",
   "nbconvert_exporter": "python",
   "pygments_lexer": "ipython3",
   "version": "3.8.8"
  }
 },
 "nbformat": 4,
 "nbformat_minor": 5
}
